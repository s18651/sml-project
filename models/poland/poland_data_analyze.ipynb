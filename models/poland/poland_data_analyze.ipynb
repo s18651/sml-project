{
 "cells": [
  {
   "cell_type": "markdown",
   "id": "7a96f4da",
   "metadata": {},
   "source": [
    "### 1. Import bibliotek"
   ]
  },
  {
   "cell_type": "code",
   "execution_count": 5,
   "id": "tribal-advertising",
   "metadata": {},
   "outputs": [],
   "source": [
    "import pandas as pd\n",
    "import numpy as np\n",
    "import pickle\n",
    "\n",
    "from sklearn.linear_model import LinearRegression"
   ]
  },
  {
   "cell_type": "markdown",
   "id": "2feb2c32",
   "metadata": {},
   "source": [
    "### 2. Przygotowanie danych do analizy"
   ]
  },
  {
   "cell_type": "code",
   "execution_count": 6,
   "id": "forced-reporter",
   "metadata": {
    "scrolled": true
   },
   "outputs": [],
   "source": [
    "raw_poland_data = pd.read_csv(\"..\\..\\data\\cleaned\\df_poland_co2.csv\", header=None)\n",
    "raw_poland_data.pop(0)\n",
    "raw_poland_data_t = raw_poland_data.T\n",
    "poland_data = raw_poland_data_t[raw_poland_data_t.columns].copy()"
   ]
  },
  {
   "cell_type": "markdown",
   "id": "90c7b885",
   "metadata": {},
   "source": [
    "### 3. Eksploracja danych"
   ]
  },
  {
   "cell_type": "code",
   "execution_count": 7,
   "id": "ca2cf96d",
   "metadata": {},
   "outputs": [
    {
     "data": {
      "text/plain": [
       "LinearRegression()"
      ]
     },
     "execution_count": 7,
     "metadata": {},
     "output_type": "execute_result"
    }
   ],
   "source": [
    "X = poland_data[[0]]\n",
    "y = poland_data[[1]]\n",
    "\n",
    "regressor = LinearRegression()\n",
    "regressor.fit(X, y)"
   ]
  },
  {
   "cell_type": "markdown",
   "id": "5d26a51b",
   "metadata": {},
   "source": [
    "### 5. Eksport modelu"
   ]
  },
  {
   "cell_type": "code",
   "execution_count": 8,
   "id": "168b2ea2",
   "metadata": {},
   "outputs": [],
   "source": [
    "filename = \"poland_model.sv\"\n",
    "pickle.dump(regressor, open(filename,'wb'))"
   ]
  }
 ],
 "metadata": {
  "kernelspec": {
   "display_name": "Python 3 (ipykernel)",
   "language": "python",
   "name": "python3"
  },
  "language_info": {
   "codemirror_mode": {
    "name": "ipython",
    "version": 3
   },
   "file_extension": ".py",
   "mimetype": "text/x-python",
   "name": "python",
   "nbconvert_exporter": "python",
   "pygments_lexer": "ipython3",
   "version": "3.9.7"
  }
 },
 "nbformat": 4,
 "nbformat_minor": 5
}
