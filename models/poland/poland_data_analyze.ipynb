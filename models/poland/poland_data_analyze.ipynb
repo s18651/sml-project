{
 "cells": [
  {
   "cell_type": "markdown",
   "id": "7a96f4da",
   "metadata": {},
   "source": [
    "### 1. Import bibliotek"
   ]
  },
  {
   "cell_type": "code",
   "execution_count": 1,
   "id": "tribal-advertising",
   "metadata": {},
   "outputs": [],
   "source": [
    "import pandas as pd\n",
    "import numpy as np\n",
    "import matplotlib as plt\n",
    "import os\n",
    "import matplotlib.pyplot as plt\n",
    "import seaborn as sns\n",
    "import pickle\n",
    "\n",
    "from array import array\n",
    "from sklearn import datasets, linear_model\n",
    "from sklearn.linear_model import LinearRegression\n",
    "from sklearn.metrics import classification_report, mean_squared_error, r2_score\n",
    "from sklearn.preprocessing import LabelEncoder\n",
    "from sklearn.model_selection import train_test_split\n",
    "from sklearn.metrics import accuracy_score\n",
    "\n",
    "from sklearn.ensemble import RandomForestClassifier\n",
    "from sklearn.linear_model import LogisticRegression\n",
    "from sklearn.tree import DecisionTreeClassifier"
   ]
  },
  {
   "cell_type": "markdown",
   "id": "2feb2c32",
   "metadata": {},
   "source": [
    "### 2. Przygotowanie danych do analizy"
   ]
  },
  {
   "cell_type": "code",
   "execution_count": 2,
   "id": "forced-reporter",
   "metadata": {
    "scrolled": true
   },
   "outputs": [
    {
     "data": {
      "text/html": [
       "<div>\n",
       "<style scoped>\n",
       "    .dataframe tbody tr th:only-of-type {\n",
       "        vertical-align: middle;\n",
       "    }\n",
       "\n",
       "    .dataframe tbody tr th {\n",
       "        vertical-align: top;\n",
       "    }\n",
       "\n",
       "    .dataframe thead th {\n",
       "        text-align: right;\n",
       "    }\n",
       "</style>\n",
       "<table border=\"1\" class=\"dataframe\">\n",
       "  <thead>\n",
       "    <tr style=\"text-align: right;\">\n",
       "      <th></th>\n",
       "      <th>0</th>\n",
       "      <th>1</th>\n",
       "    </tr>\n",
       "  </thead>\n",
       "  <tbody>\n",
       "    <tr>\n",
       "      <th>1</th>\n",
       "      <td>1970.0</td>\n",
       "      <td>35857.70</td>\n",
       "    </tr>\n",
       "    <tr>\n",
       "      <th>2</th>\n",
       "      <td>1971.0</td>\n",
       "      <td>37691.04</td>\n",
       "    </tr>\n",
       "    <tr>\n",
       "      <th>3</th>\n",
       "      <td>1972.0</td>\n",
       "      <td>38576.71</td>\n",
       "    </tr>\n",
       "    <tr>\n",
       "      <th>4</th>\n",
       "      <td>1973.0</td>\n",
       "      <td>43345.13</td>\n",
       "    </tr>\n",
       "    <tr>\n",
       "      <th>5</th>\n",
       "      <td>1974.0</td>\n",
       "      <td>45306.19</td>\n",
       "    </tr>\n",
       "  </tbody>\n",
       "</table>\n",
       "</div>"
      ],
      "text/plain": [
       "        0         1\n",
       "1  1970.0  35857.70\n",
       "2  1971.0  37691.04\n",
       "3  1972.0  38576.71\n",
       "4  1973.0  43345.13\n",
       "5  1974.0  45306.19"
      ]
     },
     "execution_count": 2,
     "metadata": {},
     "output_type": "execute_result"
    }
   ],
   "source": [
    "raw_poland_data = pd.read_csv(\"..\\..\\data\\cleaned\\df_poland_co2.csv\", header=None)\n",
    "raw_poland_data.pop(0)\n",
    "raw_poland_data_t = raw_poland_data.T\n",
    "poland_data = raw_poland_data_t[raw_poland_data_t.columns].copy()\n",
    "\n",
    "raw_poland_data_t.head()"
   ]
  },
  {
   "cell_type": "code",
   "execution_count": 3,
   "id": "7da170ad",
   "metadata": {},
   "outputs": [
    {
     "data": {
      "image/png": "[encoded data removed]",
      "text/plain": [
       "<Figure size 432x288 with 1 Axes>"
      ]
     },
     "metadata": {
      "needs_background": "light"
     },
     "output_type": "display_data"
    }
   ],
   "source": [
    "poland_data.plot(x=0, y=1, style='o')\n",
    "plt.title('Years and emissions')\n",
    "plt.xlabel('Year')\n",
    "plt.ylabel('Emission value')\n",
    "plt.show()"
   ]
  },
  {
   "cell_type": "markdown",
   "id": "90c7b885",
   "metadata": {},
   "source": [
    "### 3. Eksploracja danych"
   ]
  },
  {
   "cell_type": "code",
   "execution_count": 4,
   "id": "ca2cf96d",
   "metadata": {},
   "outputs": [
    {
     "data": {
      "image/png": "[encoded data removed]",
      "text/plain": [
       "<Figure size 432x288 with 1 Axes>"
      ]
     },
     "metadata": {
      "needs_background": "light"
     },
     "output_type": "display_data"
    }
   ],
   "source": [
    "#x = poland_data.iloc[::1, 0].values\n",
    "#y = poland_data.iloc[::1, 1].values\n",
    "\n",
    "X = poland_data[[0]]\n",
    "y = poland_data[[1]]\n",
    "\n",
    "regressor = LinearRegression()\n",
    "regressor.fit(X, y)\n",
    "\n",
    "plt.scatter(X, y, color = 'red')\n",
    "plt.plot(X, regressor.predict(X), color = 'blue')\n",
    "plt.title('Years and emissions')\n",
    "plt.xlabel('Year')\n",
    "plt.ylabel('Emission value')\n",
    "plt.show()"
   ]
  },
  {
   "cell_type": "markdown",
   "id": "5d26a51b",
   "metadata": {},
   "source": [
    "### 5. Eksport modelu"
   ]
  },
  {
   "cell_type": "code",
   "execution_count": 5,
   "id": "168b2ea2",
   "metadata": {},
   "outputs": [],
   "source": [
    "filename = \"poland_model.sv\"\n",
    "pickle.dump(regressor, open(filename,'wb'))"
   ]
  },
  {
   "cell_type": "markdown",
   "id": "8c184acd",
   "metadata": {},
   "source": [
    "### 6. Inne"
   ]
  },
  {
   "cell_type": "code",
   "execution_count": 6,
   "id": "3a699a54",
   "metadata": {},
   "outputs": [
    {
     "data": {
      "text/plain": [
       "array([[34163.53040434]])"
      ]
     },
     "execution_count": 6,
     "metadata": {},
     "output_type": "execute_result"
    }
   ],
   "source": [
    "loaded_model = pickle.load(open(filename, 'rb'))\n",
    "result = loaded_model.predict(np.array([1990]).reshape(-1,1))\n",
    "result"
   ]
  },
  {
   "cell_type": "code",
   "execution_count": null,
   "id": "1f8768c1",
   "metadata": {},
   "outputs": [],
   "source": []
  }
 ],
 "metadata": {
  "kernelspec": {
   "display_name": "Python 3 (ipykernel)",
   "language": "python",
   "name": "python3"
  },
  "language_info": {
   "codemirror_mode": {
    "name": "ipython",
    "version": 3
   },
   "file_extension": ".py",
   "mimetype": "text/x-python",
   "name": "python",
   "nbconvert_exporter": "python",
   "pygments_lexer": "ipython3",
   "version": "3.9.7"
  }
 },
 "nbformat": 4,
 "nbformat_minor": 5
}
