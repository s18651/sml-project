{
 "cells": [
  {
   "cell_type": "markdown",
   "id": "7a96f4da",
   "metadata": {},
   "source": [
    "### 1. Import bibliotek"
   ]
  },
  {
   "cell_type": "code",
   "execution_count": 546,
   "id": "tribal-advertising",
   "metadata": {},
   "outputs": [],
   "source": [
    "import pandas as pd\n",
    "import numpy as np\n",
    "import matplotlib as plt\n",
    "import os\n",
    "import matplotlib.pyplot as plt\n",
    "import seaborn as sns\n",
    "import pickle\n",
    "\n",
    "from array import array\n",
    "from sklearn import datasets, linear_model\n",
    "from sklearn.linear_model import LinearRegression\n",
    "from sklearn.metrics import classification_report, mean_squared_error, r2_score\n",
    "from sklearn.preprocessing import LabelEncoder\n",
    "from sklearn.model_selection import train_test_split\n",
    "from sklearn.metrics import accuracy_score\n",
    "\n",
    "from sklearn.ensemble import RandomForestClassifier\n",
    "from sklearn.linear_model import LogisticRegression\n",
    "from sklearn.tree import DecisionTreeClassifier"
   ]
  },
  {
   "cell_type": "markdown",
   "id": "2feb2c32",
   "metadata": {},
   "source": [
    "### 2. Przygotowanie danych do analizy"
   ]
  },
  {
   "cell_type": "code",
   "execution_count": 654,
   "id": "2cf22dea",
   "metadata": {},
   "outputs": [
    {
     "data": {
      "text/html": [
       "<div>\n",
       "<style scoped>\n",
       "    .dataframe tbody tr th:only-of-type {\n",
       "        vertical-align: middle;\n",
       "    }\n",
       "\n",
       "    .dataframe tbody tr th {\n",
       "        vertical-align: top;\n",
       "    }\n",
       "\n",
       "    .dataframe thead th {\n",
       "        text-align: right;\n",
       "    }\n",
       "</style>\n",
       "<table border=\"1\" class=\"dataframe\">\n",
       "  <thead>\n",
       "    <tr style=\"text-align: right;\">\n",
       "      <th></th>\n",
       "      <th>1970</th>\n",
       "      <th>1971</th>\n",
       "      <th>1972</th>\n",
       "      <th>1973</th>\n",
       "      <th>1974</th>\n",
       "      <th>1975</th>\n",
       "      <th>1976</th>\n",
       "      <th>1977</th>\n",
       "      <th>1978</th>\n",
       "      <th>1979</th>\n",
       "      <th>...</th>\n",
       "      <th>2003</th>\n",
       "      <th>2004</th>\n",
       "      <th>2005</th>\n",
       "      <th>2006</th>\n",
       "      <th>2007</th>\n",
       "      <th>2008</th>\n",
       "      <th>2009</th>\n",
       "      <th>2010</th>\n",
       "      <th>2011</th>\n",
       "      <th>2012</th>\n",
       "    </tr>\n",
       "    <tr>\n",
       "      <th>Region Index</th>\n",
       "      <th></th>\n",
       "      <th></th>\n",
       "      <th></th>\n",
       "      <th></th>\n",
       "      <th></th>\n",
       "      <th></th>\n",
       "      <th></th>\n",
       "      <th></th>\n",
       "      <th></th>\n",
       "      <th></th>\n",
       "      <th></th>\n",
       "      <th></th>\n",
       "      <th></th>\n",
       "      <th></th>\n",
       "      <th></th>\n",
       "      <th></th>\n",
       "      <th></th>\n",
       "      <th></th>\n",
       "      <th></th>\n",
       "      <th></th>\n",
       "      <th></th>\n",
       "    </tr>\n",
       "  </thead>\n",
       "  <tbody>\n",
       "    <tr>\n",
       "      <th>0</th>\n",
       "      <td>8134.996146</td>\n",
       "      <td>5949.589184</td>\n",
       "      <td>6140.597465</td>\n",
       "      <td>6546.473614</td>\n",
       "      <td>5539.747886</td>\n",
       "      <td>6281.080961</td>\n",
       "      <td>6027.106564</td>\n",
       "      <td>6914.119291</td>\n",
       "      <td>6684.238960</td>\n",
       "      <td>8058.744788</td>\n",
       "      <td>...</td>\n",
       "      <td>7579.317030</td>\n",
       "      <td>7732.100876</td>\n",
       "      <td>8118.890602</td>\n",
       "      <td>10622.260070</td>\n",
       "      <td>15273.326306</td>\n",
       "      <td>11701.428820</td>\n",
       "      <td>11158.356891</td>\n",
       "      <td>11121.001267</td>\n",
       "      <td>11221.276154</td>\n",
       "      <td>11321.551040</td>\n",
       "    </tr>\n",
       "    <tr>\n",
       "      <th>1</th>\n",
       "      <td>10165.554236</td>\n",
       "      <td>9855.868360</td>\n",
       "      <td>11172.833793</td>\n",
       "      <td>11333.175512</td>\n",
       "      <td>10568.860178</td>\n",
       "      <td>10914.311696</td>\n",
       "      <td>11512.700149</td>\n",
       "      <td>12964.255598</td>\n",
       "      <td>13250.695731</td>\n",
       "      <td>13819.897815</td>\n",
       "      <td>...</td>\n",
       "      <td>21673.993992</td>\n",
       "      <td>23194.825170</td>\n",
       "      <td>24122.367680</td>\n",
       "      <td>26126.905160</td>\n",
       "      <td>23878.366909</td>\n",
       "      <td>23886.158800</td>\n",
       "      <td>25548.026548</td>\n",
       "      <td>25842.166795</td>\n",
       "      <td>26385.663882</td>\n",
       "      <td>26918.434969</td>\n",
       "    </tr>\n",
       "    <tr>\n",
       "      <th>2</th>\n",
       "      <td>15224.636830</td>\n",
       "      <td>15582.137756</td>\n",
       "      <td>16482.423651</td>\n",
       "      <td>16956.358353</td>\n",
       "      <td>17468.531500</td>\n",
       "      <td>17641.326842</td>\n",
       "      <td>17975.703450</td>\n",
       "      <td>18120.101846</td>\n",
       "      <td>18490.425632</td>\n",
       "      <td>18621.798477</td>\n",
       "      <td>...</td>\n",
       "      <td>12093.114739</td>\n",
       "      <td>11070.186325</td>\n",
       "      <td>10977.732531</td>\n",
       "      <td>10399.276262</td>\n",
       "      <td>10269.395626</td>\n",
       "      <td>9996.251475</td>\n",
       "      <td>9623.996577</td>\n",
       "      <td>9470.824292</td>\n",
       "      <td>9374.493102</td>\n",
       "      <td>9349.584374</td>\n",
       "    </tr>\n",
       "    <tr>\n",
       "      <th>3</th>\n",
       "      <td>3410.067153</td>\n",
       "      <td>3252.959625</td>\n",
       "      <td>3960.602021</td>\n",
       "      <td>3241.556976</td>\n",
       "      <td>3514.667037</td>\n",
       "      <td>3820.624617</td>\n",
       "      <td>4383.710506</td>\n",
       "      <td>4279.725322</td>\n",
       "      <td>3625.227162</td>\n",
       "      <td>4213.019527</td>\n",
       "      <td>...</td>\n",
       "      <td>4564.501346</td>\n",
       "      <td>4601.761800</td>\n",
       "      <td>4202.574862</td>\n",
       "      <td>3950.053704</td>\n",
       "      <td>4996.650852</td>\n",
       "      <td>3940.056494</td>\n",
       "      <td>4022.752067</td>\n",
       "      <td>3541.508586</td>\n",
       "      <td>3631.195073</td>\n",
       "      <td>3721.592928</td>\n",
       "    </tr>\n",
       "    <tr>\n",
       "      <th>4</th>\n",
       "      <td>12374.956820</td>\n",
       "      <td>12694.444044</td>\n",
       "      <td>12989.432609</td>\n",
       "      <td>13638.880296</td>\n",
       "      <td>13694.135041</td>\n",
       "      <td>13909.338800</td>\n",
       "      <td>14570.865697</td>\n",
       "      <td>14834.654544</td>\n",
       "      <td>15071.459318</td>\n",
       "      <td>16088.149316</td>\n",
       "      <td>...</td>\n",
       "      <td>14214.338212</td>\n",
       "      <td>14035.550647</td>\n",
       "      <td>13912.824882</td>\n",
       "      <td>13465.481709</td>\n",
       "      <td>13473.408879</td>\n",
       "      <td>13189.827421</td>\n",
       "      <td>13175.372112</td>\n",
       "      <td>13127.829309</td>\n",
       "      <td>12913.249365</td>\n",
       "      <td>12677.389422</td>\n",
       "    </tr>\n",
       "    <tr>\n",
       "      <th>5</th>\n",
       "      <td>16786.634850</td>\n",
       "      <td>14472.563125</td>\n",
       "      <td>16217.372550</td>\n",
       "      <td>15288.932625</td>\n",
       "      <td>16380.546992</td>\n",
       "      <td>17592.200075</td>\n",
       "      <td>19403.470142</td>\n",
       "      <td>17890.281350</td>\n",
       "      <td>19113.056200</td>\n",
       "      <td>19841.199958</td>\n",
       "      <td>...</td>\n",
       "      <td>28083.248750</td>\n",
       "      <td>30904.736225</td>\n",
       "      <td>31552.034050</td>\n",
       "      <td>26817.918418</td>\n",
       "      <td>27600.191147</td>\n",
       "      <td>27802.153537</td>\n",
       "      <td>27614.416969</td>\n",
       "      <td>29343.857679</td>\n",
       "      <td>29749.787325</td>\n",
       "      <td>30155.716971</td>\n",
       "    </tr>\n",
       "  </tbody>\n",
       "</table>\n",
       "<p>6 rows × 43 columns</p>\n",
       "</div>"
      ],
      "text/plain": [
       "                      1970          1971          1972          1973  \\\n",
       "Region Index                                                           \n",
       "0              8134.996146   5949.589184   6140.597465   6546.473614   \n",
       "1             10165.554236   9855.868360  11172.833793  11333.175512   \n",
       "2             15224.636830  15582.137756  16482.423651  16956.358353   \n",
       "3              3410.067153   3252.959625   3960.602021   3241.556976   \n",
       "4             12374.956820  12694.444044  12989.432609  13638.880296   \n",
       "5             16786.634850  14472.563125  16217.372550  15288.932625   \n",
       "\n",
       "                      1974          1975          1976          1977  \\\n",
       "Region Index                                                           \n",
       "0              5539.747886   6281.080961   6027.106564   6914.119291   \n",
       "1             10568.860178  10914.311696  11512.700149  12964.255598   \n",
       "2             17468.531500  17641.326842  17975.703450  18120.101846   \n",
       "3              3514.667037   3820.624617   4383.710506   4279.725322   \n",
       "4             13694.135041  13909.338800  14570.865697  14834.654544   \n",
       "5             16380.546992  17592.200075  19403.470142  17890.281350   \n",
       "\n",
       "                      1978          1979  ...          2003          2004  \\\n",
       "Region Index                              ...                               \n",
       "0              6684.238960   8058.744788  ...   7579.317030   7732.100876   \n",
       "1             13250.695731  13819.897815  ...  21673.993992  23194.825170   \n",
       "2             18490.425632  18621.798477  ...  12093.114739  11070.186325   \n",
       "3              3625.227162   4213.019527  ...   4564.501346   4601.761800   \n",
       "4             15071.459318  16088.149316  ...  14214.338212  14035.550647   \n",
       "5             19113.056200  19841.199958  ...  28083.248750  30904.736225   \n",
       "\n",
       "                      2005          2006          2007          2008  \\\n",
       "Region Index                                                           \n",
       "0              8118.890602  10622.260070  15273.326306  11701.428820   \n",
       "1             24122.367680  26126.905160  23878.366909  23886.158800   \n",
       "2             10977.732531  10399.276262  10269.395626   9996.251475   \n",
       "3              4202.574862   3950.053704   4996.650852   3940.056494   \n",
       "4             13912.824882  13465.481709  13473.408879  13189.827421   \n",
       "5             31552.034050  26817.918418  27600.191147  27802.153537   \n",
       "\n",
       "                      2009          2010          2011          2012  \n",
       "Region Index                                                          \n",
       "0             11158.356891  11121.001267  11221.276154  11321.551040  \n",
       "1             25548.026548  25842.166795  26385.663882  26918.434969  \n",
       "2              9623.996577   9470.824292   9374.493102   9349.584374  \n",
       "3              4022.752067   3541.508586   3631.195073   3721.592928  \n",
       "4             13175.372112  13127.829309  12913.249365  12677.389422  \n",
       "5             27614.416969  29343.857679  29749.787325  30155.716971  \n",
       "\n",
       "[6 rows x 43 columns]"
      ]
     },
     "execution_count": 654,
     "metadata": {},
     "output_type": "execute_result"
    }
   ],
   "source": [
    "data"
   ]
  },
  {
   "cell_type": "code",
   "execution_count": 682,
   "id": "forced-reporter",
   "metadata": {
    "scrolled": false
   },
   "outputs": [],
   "source": [
    "raw_data = pd.read_csv(\"..\\..\\data\\cleaned\\df_continents_co2.csv\")\n",
    "raw_data.pop(\"Continent\")\n",
    "raw_data.pop(\"Country Name\")\n",
    "raw_data.pop(\"Country Index\")\n",
    "\n",
    "data = raw_data[raw_data.columns].copy().groupby(by=\"Region Index\", axis=0).mean()\n",
    "\n",
    "tempX = [int(stri) for stri in data.columns.to_numpy()]\n",
    "tempY_0 = [int(flo) for flo in data.iloc[0, :].to_numpy()]\n",
    "tempY_1 = [int(flo) for flo in data.iloc[1, :].to_numpy()]\n",
    "tempY_2 = [int(flo) for flo in data.iloc[2, :].to_numpy()]\n",
    "tempY_3 = [int(flo) for flo in data.iloc[3, :].to_numpy()]\n",
    "tempY_4 = [int(flo) for flo in data.iloc[4, :].to_numpy()]\n",
    "tempY_5 = [int(flo) for flo in data.iloc[5, :].to_numpy()]\n",
    "x = np.array(tempX).reshape(-1, 1)\n",
    "y_0 = np.array(tempY_0)\n",
    "y_1 = np.array(tempY_1)\n",
    "y_2 = np.array(tempY_2)\n",
    "y_3 = np.array(tempY_3)\n",
    "y_4 = np.array(tempY_4)\n",
    "y_5 = np.array(tempY_5)"
   ]
  },
  {
   "cell_type": "markdown",
   "id": "90c7b885",
   "metadata": {},
   "source": [
    "### 4. Trenowanie modelu"
   ]
  },
  {
   "cell_type": "code",
   "execution_count": 683,
   "id": "ca2cf96d",
   "metadata": {},
   "outputs": [],
   "source": [
    "X_train_0, X_test_0, y_train_0, y_test_0 = train_test_split(x, y_0, test_size = 0.1, random_state = 0)\n",
    "X_train_1, X_test_1, y_train_1, y_test_1 = train_test_split(x, y_1, test_size = 0.1, random_state = 0)\n",
    "X_train_2, X_test_2, y_train_2, y_test_2 = train_test_split(x, y_2, test_size = 0.1, random_state = 0)\n",
    "X_train_3, X_test_3, y_train_3, y_test_3 = train_test_split(x, y_3, test_size = 0.1, random_state = 0)\n",
    "X_train_4, X_test_4, y_train_4, y_test_4 = train_test_split(x, y_4, test_size = 0.1, random_state = 0)\n",
    "X_train_5, X_test_5, y_train_5, y_test_5 = train_test_split(x, y_5, test_size = 0.1, random_state = 0)"
   ]
  },
  {
   "cell_type": "code",
   "execution_count": 675,
   "id": "6e94eead",
   "metadata": {
    "scrolled": true
   },
   "outputs": [
    {
     "name": "stdout",
     "output_type": "stream",
     "text": [
      "Random Forest: 1.0\n",
      "Regresja logistyczna: 0.029411764705882353\n",
      "Decision Tree: 1.0\n"
     ]
    }
   ],
   "source": [
    "def model(X_train, y_train):\n",
    "    \n",
    "    f_0 = RandomForestClassifier (n_estimators=20, random_state=0)\n",
    "    f_1 = RandomForestClassifier (n_estimators=20, random_state=0)\n",
    "    f_2 = RandomForestClassifier (n_estimators=20, random_state=0)\n",
    "    f_3 = RandomForestClassifier (n_estimators=20, random_state=0)\n",
    "    f_4 = RandomForestClassifier (n_estimators=20, random_state=0)\n",
    "    f_5 = RandomForestClassifier (n_estimators=20, random_state=0)\n",
    "    f_0.fit(X_train_0,y_train_0)\n",
    "    f_1.fit(X_train_1,y_train_1)\n",
    "    f_2.fit(X_train_2,y_train_2)\n",
    "    f_3.fit(X_train_3,y_train_3)\n",
    "    f_4.fit(X_train_4,y_train_4)\n",
    "    f_5.fit(X_train_5,y_train_5)\n",
    "   \n",
    "    return f_0, f_1, f_2, f_3, f_4, f_5, f_0, f_1, f_2, f_3, f_4, f_5\n",
    "\n",
    "forest = model(X_train,y_train)"
   ]
  },
  {
   "cell_type": "markdown",
   "id": "42f876fd",
   "metadata": {},
   "source": [
    "### 5. Eksport modelu"
   ]
  },
  {
   "cell_type": "code",
   "execution_count": 649,
   "id": "168b2ea2",
   "metadata": {},
   "outputs": [],
   "source": [
    "filename = \"continents_model_region_0.sv\"\n",
    "pickle.dump(forest, open(filename,'wb'))"
   ]
  },
  {
   "cell_type": "markdown",
   "id": "8c184acd",
   "metadata": {},
   "source": [
    "### 6. Testowanie modelu"
   ]
  },
  {
   "cell_type": "code",
   "execution_count": 676,
   "id": "3a699a54",
   "metadata": {},
   "outputs": [
    {
     "data": {
      "text/plain": [
       "array([11321])"
      ]
     },
     "execution_count": 676,
     "metadata": {},
     "output_type": "execute_result"
    }
   ],
   "source": [
    "loaded_model = pickle.load(open(filename, 'rb'))\n",
    "result = forest.predict(np.array([2020]).reshape(-1,1))\n",
    "result"
   ]
  },
  {
   "cell_type": "code",
   "execution_count": 679,
   "id": "4d37b181",
   "metadata": {},
   "outputs": [
    {
     "data": {
      "image/png": "[encoded data removed]",
      "text/plain": [
       "<Figure size 432x288 with 1 Axes>"
      ]
     },
     "metadata": {
      "needs_background": "light"
     },
     "output_type": "display_data"
    }
   ],
   "source": [
    "plotX = x\n",
    "plotY = y\n",
    "\n",
    "for number in range(20):\n",
    "    year = number + 2013\n",
    "    emission = forest.predict(np.array([year]).reshape(-1,1))\n",
    "    plotY = np.append(plotY, emission)\n",
    "    plotX = np.append(plotX, np.array(year))\n",
    "    \n",
    "plt.plot(plotX, plotY)\n",
    "plt.title('Years and emissions, Random Forest Regression')\n",
    "plt.xlabel('Year')\n",
    "plt.ylabel('Emission value')\n",
    "plt.show()"
   ]
  },
  {
   "cell_type": "code",
   "execution_count": 680,
   "id": "224e6d68",
   "metadata": {},
   "outputs": [
    {
     "data": {
      "image/png": "[encoded data removed]",
      "text/plain": [
       "<Figure size 432x288 with 1 Axes>"
      ]
     },
     "metadata": {
      "needs_background": "light"
     },
     "output_type": "display_data"
    }
   ],
   "source": [
    "plotX = x\n",
    "plotY = y\n",
    "\n",
    "for number in range(20):\n",
    "    year = number + 2013\n",
    "    emission = lreg.predict(np.array([year]).reshape(-1,1))\n",
    "    plotY = np.append(plotY, emission)\n",
    "    plotX = np.append(plotX, np.array(year))\n",
    "    \n",
    "plt.plot(plotX, plotY)\n",
    "plt.title('Years and emissions, Logistic Regression')\n",
    "plt.xlabel('Year')\n",
    "plt.ylabel('Emission value')\n",
    "plt.show()"
   ]
  },
  {
   "cell_type": "code",
   "execution_count": 681,
   "id": "ec3b06a6",
   "metadata": {},
   "outputs": [
    {
     "data": {
      "image/png": "[encoded data removed]",
      "text/plain": [
       "<Figure size 432x288 with 1 Axes>"
      ]
     },
     "metadata": {
      "needs_background": "light"
     },
     "output_type": "display_data"
    }
   ],
   "source": [
    "plotX = x\n",
    "plotY = y\n",
    "\n",
    "for number in range(20):\n",
    "    year = number + 2013\n",
    "    emission = tree.predict(np.array([year]).reshape(-1,1))\n",
    "    plotY = np.append(plotY, emission)\n",
    "    plotX = np.append(plotX, np.array(year))\n",
    "    \n",
    "plt.plot(plotX, plotY)\n",
    "plt.title('Years and emissions, Tree Regression')\n",
    "plt.xlabel('Year')\n",
    "plt.ylabel('Emission value')\n",
    "plt.show()"
   ]
  }
 ],
 "metadata": {
  "kernelspec": {
   "display_name": "Python 3 (ipykernel)",
   "language": "python",
   "name": "python3"
  },
  "language_info": {
   "codemirror_mode": {
    "name": "ipython",
    "version": 3
   },
   "file_extension": ".py",
   "mimetype": "text/x-python",
   "name": "python",
   "nbconvert_exporter": "python",
   "pygments_lexer": "ipython3",
   "version": "3.9.7"
  }
 },
 "nbformat": 4,
 "nbformat_minor": 5
}
