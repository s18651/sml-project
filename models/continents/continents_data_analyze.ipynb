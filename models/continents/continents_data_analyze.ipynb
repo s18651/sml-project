{
 "cells": [
  {
   "cell_type": "markdown",
   "id": "7a96f4da",
   "metadata": {},
   "source": [
    "### 1. Import bibliotek"
   ]
  },
  {
   "cell_type": "code",
   "execution_count": 53,
   "id": "tribal-advertising",
   "metadata": {},
   "outputs": [],
   "source": [
    "import pandas as pd\n",
    "import numpy as np\n",
    "import pickle\n",
    "\n",
    "from sklearn.ensemble import RandomForestClassifier"
   ]
  },
  {
   "cell_type": "markdown",
   "id": "2feb2c32",
   "metadata": {},
   "source": [
    "### 2. Przygotowanie danych do analizy"
   ]
  },
  {
   "cell_type": "code",
   "execution_count": 54,
   "id": "forced-reporter",
   "metadata": {
    "scrolled": false
   },
   "outputs": [],
   "source": [
    "raw_data = pd.read_csv(\"..\\..\\data\\cleaned\\df_continents_co2.csv\")\n",
    "raw_data.pop(\"Continent\")\n",
    "raw_data.pop(\"Country Name\")\n",
    "raw_data.pop(\"Country Index\")\n",
    "\n",
    "data = raw_data[raw_data.columns].copy().groupby(by=\"Region Index\", axis=0).mean()\n",
    "\n",
    "tempX = [int(stri) for stri in data.columns.to_numpy()]\n",
    "tempY_0 = [int(flo) for flo in data.iloc[0, :].to_numpy()]\n",
    "tempY_1 = [int(flo) for flo in data.iloc[1, :].to_numpy()]\n",
    "tempY_2 = [int(flo) for flo in data.iloc[2, :].to_numpy()]\n",
    "tempY_3 = [int(flo) for flo in data.iloc[3, :].to_numpy()]\n",
    "tempY_4 = [int(flo) for flo in data.iloc[4, :].to_numpy()]\n",
    "tempY_5 = [int(flo) for flo in data.iloc[5, :].to_numpy()]\n",
    "x = np.array(tempX).reshape(-1, 1)\n",
    "y_0 = np.array(tempY_0)\n",
    "y_1 = np.array(tempY_1)\n",
    "y_2 = np.array(tempY_2)\n",
    "y_3 = np.array(tempY_3)\n",
    "y_4 = np.array(tempY_4)\n",
    "y_5 = np.array(tempY_5)"
   ]
  },
  {
   "cell_type": "markdown",
   "id": "90c7b885",
   "metadata": {},
   "source": [
    "### 3. Trenowanie modelu"
   ]
  },
  {
   "cell_type": "code",
   "execution_count": 55,
   "id": "ca2cf96d",
   "metadata": {},
   "outputs": [],
   "source": [
    "X_train_0, X_test_0, y_train_0, y_test_0 = train_test_split(x, y_0, test_size = 0.1, random_state = 0)\n",
    "X_train_1, X_test_1, y_train_1, y_test_1 = train_test_split(x, y_1, test_size = 0.1, random_state = 0)\n",
    "X_train_2, X_test_2, y_train_2, y_test_2 = train_test_split(x, y_2, test_size = 0.1, random_state = 0)\n",
    "X_train_3, X_test_3, y_train_3, y_test_3 = train_test_split(x, y_3, test_size = 0.1, random_state = 0)\n",
    "X_train_4, X_test_4, y_train_4, y_test_4 = train_test_split(x, y_4, test_size = 0.1, random_state = 0)\n",
    "X_train_5, X_test_5, y_train_5, y_test_5 = train_test_split(x, y_5, test_size = 0.1, random_state = 0)"
   ]
  },
  {
   "cell_type": "code",
   "execution_count": 56,
   "id": "6e94eead",
   "metadata": {
    "scrolled": true
   },
   "outputs": [],
   "source": [
    "def model(X_train, y_train):\n",
    "    \n",
    "    forest = RandomForestClassifier (n_estimators=20, random_state=0)\n",
    "    forest.fit(X_train,y_train)\n",
    "    return forest\n",
    "\n",
    "forest_0 = model(X_train_0,y_train_0)\n",
    "forest_1 = model(X_train_1,y_train_1)\n",
    "forest_2 = model(X_train_2,y_train_2)\n",
    "forest_3 = model(X_train_3,y_train_3)\n",
    "forest_4 = model(X_train_4,y_train_4)\n",
    "forest_5 = model(X_train_5,y_train_5)"
   ]
  },
  {
   "cell_type": "markdown",
   "id": "42f876fd",
   "metadata": {},
   "source": [
    "### 4. Eksport modelu"
   ]
  },
  {
   "cell_type": "code",
   "execution_count": 57,
   "id": "168b2ea2",
   "metadata": {},
   "outputs": [],
   "source": [
    "filename_0 = \"continents_model_region_0.sv\"\n",
    "filename_1 = \"continents_model_region_1.sv\"\n",
    "filename_2 = \"continents_model_region_2.sv\"\n",
    "filename_3 = \"continents_model_region_3.sv\"\n",
    "filename_4 = \"continents_model_region_4.sv\"\n",
    "filename_5 = \"continents_model_region_5.sv\"\n",
    "pickle.dump(forest_0, open(filename_0,'wb'))\n",
    "pickle.dump(forest_1, open(filename_1,'wb'))\n",
    "pickle.dump(forest_2, open(filename_2,'wb'))\n",
    "pickle.dump(forest_3, open(filename_3,'wb'))\n",
    "pickle.dump(forest_4, open(filename_4,'wb'))\n",
    "pickle.dump(forest_5, open(filename_5,'wb'))"
   ]
  }
 ],
 "metadata": {
  "kernelspec": {
   "display_name": "Python 3 (ipykernel)",
   "language": "python",
   "name": "python3"
  },
  "language_info": {
   "codemirror_mode": {
    "name": "ipython",
    "version": 3
   },
   "file_extension": ".py",
   "mimetype": "text/x-python",
   "name": "python",
   "nbconvert_exporter": "python",
   "pygments_lexer": "ipython3",
   "version": "3.9.7"
  }
 },
 "nbformat": 4,
 "nbformat_minor": 5
}
